{
 "cells": [
  {
   "cell_type": "code",
   "execution_count": 2,
   "id": "702b732d",
   "metadata": {},
   "outputs": [
    {
     "name": "stdout",
     "output_type": "stream",
     "text": [
      "Data: [0. 1. 0. 0. 1. 0. 1. 0. 1. 0.] --> Prediction: no\n",
      "Data: [0. 0. 1. 0. 0. 1. 0. 1. 0. 1.] --> Prediction: yes\n"
     ]
    }
   ],
   "source": [
    "from sklearn.preprocessing import OneHotEncoder\n",
    "from sklearn.compose import ColumnTransformer\n",
    "from sklearn import tree\n",
    "\n",
    "# Prepare the dataset\n",
    "X = [\n",
    "    ['sunny', 'hot', 'high', 'weak'],\n",
    "    ['sunny', 'hot', 'high', 'strong'],\n",
    "    ['overcast', 'hot', 'high', 'weak'],\n",
    "    ['rainy', 'mild', 'high', 'weak'],\n",
    "    ['rainy', 'cool', 'normal', 'weak'],\n",
    "    ['rainy', 'cool', 'normal', 'strong'],\n",
    "    ['overcast', 'cool', 'normal', 'strong'],\n",
    "    ['sunny', 'mild', 'high', 'weak'],\n",
    "    ['sunny', 'cool', 'normal', 'weak'],\n",
    "    ['rainy', 'mild', 'normal', 'weak'],\n",
    "    ['sunny', 'mild', 'normal', 'strong'],\n",
    "    ['overcast', 'mild', 'high', 'strong'],\n",
    "    ['overcast', 'hot', 'normal', 'weak'],\n",
    "    ['rainy', 'mild', 'high', 'strong']\n",
    "]\n",
    "\n",
    "y = ['no', 'no', 'yes', 'yes', 'yes', 'no', 'yes', 'no', 'yes', 'yes', 'yes', 'yes', 'yes', 'no']\n",
    "\n",
    "# Perform one-hot encoding for categorical features\n",
    "ct = ColumnTransformer(\n",
    "    [('one_hot_encoder', OneHotEncoder(), [0, 1, 2, 3])],  # Specify the categorical columns\n",
    "    remainder='passthrough'  # Leave other columns as they are\n",
    ")\n",
    "X = ct.fit_transform(X)\n",
    "\n",
    "# Create a decision tree classifier\n",
    "clf = tree.DecisionTreeClassifier()\n",
    "\n",
    "# Train the classifier\n",
    "clf.fit(X, y)\n",
    "\n",
    "# Make predictions on new data\n",
    "new_data = [\n",
    "    ['rainy', 'hot', 'high', 'strong'],\n",
    "    ['sunny', 'mild', 'normal', 'weak']\n",
    "]\n",
    "\n",
    "new_data = ct.transform(new_data)  # Apply the same column transformation\n",
    "\n",
    "predictions = clf.predict(new_data)\n",
    "\n",
    "# Print the predictions\n",
    "for data, prediction in zip(new_data, predictions):\n",
    "    print(f\"Data: {data} --> Prediction: {prediction}\")\n"
   ]
  },
  {
   "cell_type": "code",
   "execution_count": 4,
   "id": "2b9b5655",
   "metadata": {},
   "outputs": [
    {
     "name": "stdout",
     "output_type": "stream",
     "text": [
      "Data: [0. 1. 0. 0. 1. 0. 1. 0. 1. 0.] --> Prediction: no\n",
      "Data: [0. 0. 1. 0. 0. 1. 0. 1. 0. 1.] --> Prediction: yes\n"
     ]
    }
   ],
   "source": [
    "from sklearn.preprocessing import OneHotEncoder\n",
    "from sklearn.compose import ColumnTransformer\n",
    "from sklearn.ensemble import RandomForestClassifier\n",
    "\n",
    "# Prepare the dataset\n",
    "X = [\n",
    "    ['sunny', 'hot', 'high', 'weak'],\n",
    "    ['sunny', 'hot', 'high', 'strong'],\n",
    "    ['overcast', 'hot', 'high', 'weak'],\n",
    "    ['rainy', 'mild', 'high', 'weak'],\n",
    "    ['rainy', 'cool', 'normal', 'weak'],\n",
    "    ['rainy', 'cool', 'normal', 'strong'],\n",
    "    ['overcast', 'cool', 'normal', 'strong'],\n",
    "    ['sunny', 'mild', 'high', 'weak'],\n",
    "    ['sunny', 'cool', 'normal', 'weak'],\n",
    "    ['rainy', 'mild', 'normal', 'weak'],\n",
    "    ['sunny', 'mild', 'normal', 'strong'],\n",
    "    ['overcast', 'mild', 'high', 'strong'],\n",
    "    ['overcast', 'hot', 'normal', 'weak'],\n",
    "    ['rainy', 'mild', 'high', 'strong']\n",
    "]\n",
    "\n",
    "y = ['no', 'no', 'yes', 'yes', 'yes', 'no', 'yes', 'no', 'yes', 'yes', 'yes', 'yes', 'yes', 'no']\n",
    "\n",
    "# Perform one-hot encoding for categorical features\n",
    "ct = ColumnTransformer(\n",
    "    [('one_hot_encoder', OneHotEncoder(), [0, 1, 2, 3])],  # Specify the categorical columns\n",
    "    remainder='passthrough'  # Leave other columns as they are\n",
    ")\n",
    "X = ct.fit_transform(X)\n",
    "\n",
    "# Create a Random Forest classifier\n",
    "clf = RandomForestClassifier(n_estimators=100)\n",
    "\n",
    "# Train the classifier\n",
    "clf.fit(X, y)\n",
    "\n",
    "# Make predictions on new data\n",
    "new_data = [\n",
    "    ['rainy', 'hot', 'high', 'strong'],\n",
    "    ['sunny', 'mild', 'normal', 'weak']\n",
    "]\n",
    "\n",
    "new_data = ct.transform(new_data)  # Apply the same column transformation\n",
    "\n",
    "predictions = clf.predict(new_data)\n",
    "\n",
    "# Print the predictions\n",
    "for data, prediction in zip(new_data, predictions):\n",
    "    print(f\"Data: {data} --> Prediction: {prediction}\")\n"
   ]
  },
  {
   "cell_type": "code",
   "execution_count": null,
   "id": "76ebad4f",
   "metadata": {},
   "outputs": [],
   "source": []
  }
 ],
 "metadata": {
  "kernelspec": {
   "display_name": "Python 3 (ipykernel)",
   "language": "python",
   "name": "python3"
  },
  "language_info": {
   "codemirror_mode": {
    "name": "ipython",
    "version": 3
   },
   "file_extension": ".py",
   "mimetype": "text/x-python",
   "name": "python",
   "nbconvert_exporter": "python",
   "pygments_lexer": "ipython3",
   "version": "3.10.9"
  }
 },
 "nbformat": 4,
 "nbformat_minor": 5
}
